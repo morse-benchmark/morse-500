{
  "cells": [
    {
      "cell_type": "code",
      "execution_count": null,
      "id": "ccf3c4e7",
      "metadata": {
        "id": "ccf3c4e7"
      },
      "outputs": [],
      "source": [
        "import cv2\n",
        "import matplotlib.pyplot as plt\n",
        "from IPython.display import display\n",
        "import ipywidgets as widgets\n",
        "from pathlib import Path\n"
      ]
    },
    {
      "cell_type": "code",
      "source": [
        "!ls"
      ],
      "metadata": {
        "colab": {
          "base_uri": "https://localhost:8080/"
        },
        "id": "1usP28WiOuji",
        "outputId": "10fce580-152c-4535-8563-486db857cdff"
      },
      "id": "1usP28WiOuji",
      "execution_count": null,
      "outputs": [
        {
          "output_type": "stream",
          "name": "stdout",
          "text": [
            "abstract_reasoning_logical_reasoning_arcagi2_combined_67e490f4_mc.mp4\n",
            "physical_reasoning_physical_commonsense_physics_iq_0130.mp4\n",
            "planning_reasoning_mazes_maze1_visit_all_letterssz11.mp4\n",
            "planning_reasoning_rope_knots_knot_remaining_order_tie_a_bow_tie.mp4\n",
            "sample_data\n"
          ]
        }
      ]
    },
    {
      "cell_type": "code",
      "execution_count": null,
      "id": "afdfc918",
      "metadata": {
        "colab": {
          "base_uri": "https://localhost:8080/",
          "height": 481,
          "referenced_widgets": [
            "5314d98dade34398a53eba041d41e7ef",
            "bd4bf36e688b4dd682c96b38127deb8d",
            "46590fff7d3f46f1b466970ffe7acd3b",
            "b3b3c083aaae4a508ebfce42f7e228aa",
            "364ab3a613ee4dad911a90720bfaa86a",
            "8569bb4d394d4a23970e9d17dc4da72c",
            "1efb6bb22bf540d2b492bf2a926655bc"
          ]
        },
        "id": "afdfc918",
        "outputId": "e0c3b476-948f-4b0b-f21a-b2840a1f273b"
      },
      "outputs": [
        {
          "output_type": "stream",
          "name": "stdout",
          "text": [
            "504\n"
          ]
        },
        {
          "output_type": "display_data",
          "data": {
            "text/plain": [
              "interactive(children=(IntSlider(value=0, description='Frame', max=503), Output()), _dom_classes=('widget-inter…"
            ],
            "application/vnd.jupyter.widget-view+json": {
              "version_major": 2,
              "version_minor": 0,
              "model_id": "5314d98dade34398a53eba041d41e7ef"
            }
          },
          "metadata": {}
        },
        {
          "output_type": "execute_result",
          "data": {
            "text/plain": [
              "<function __main__.show_frame(i)>"
            ],
            "text/html": [
              "<div style=\"max-width:800px; border: 1px solid var(--colab-border-color);\"><style>\n",
              "      pre.function-repr-contents {\n",
              "        overflow-x: auto;\n",
              "        padding: 8px 12px;\n",
              "        max-height: 500px;\n",
              "      }\n",
              "\n",
              "      pre.function-repr-contents.function-repr-contents-collapsed {\n",
              "        cursor: pointer;\n",
              "        max-height: 100px;\n",
              "      }\n",
              "    </style>\n",
              "    <pre style=\"white-space: initial; background:\n",
              "         var(--colab-secondary-surface-color); padding: 8px 12px;\n",
              "         border-bottom: 1px solid var(--colab-border-color);\"><b>show_frame</b><br/>def show_frame(i)</pre><pre class=\"function-repr-contents function-repr-contents-collapsed\" style=\"\"><a class=\"filepath\" style=\"display:none\" href=\"#\">/content/&lt;ipython-input-25-5e8d1b235d42&gt;</a>Display the i‑th frame (0‑based).</pre></div>"
            ]
          },
          "metadata": {},
          "execution_count": 25
        }
      ],
      "source": [
        "video_path = \"planning_reasoning_rope_knots_knot_remaining_order_tie_a_bow_tie.mp4\"          # ← change to your file\n",
        "cap = cv2.VideoCapture(video_path)\n",
        "total = int(cap.get(cv2.CAP_PROP_FRAME_COUNT))\n",
        "\n",
        "def show_frame(i):\n",
        "    \"\"\"Display the i‑th frame (0‑based).\"\"\"\n",
        "    cap.set(cv2.CAP_PROP_POS_FRAMES, i)\n",
        "    ok, frame = cap.read()\n",
        "    if not ok:\n",
        "        print(f\"Couldn’t grab frame {i}\")\n",
        "        return\n",
        "    frame = cv2.cvtColor(frame, cv2.COLOR_BGR2RGB)\n",
        "\n",
        "    plt.figure(figsize=(6, 4))\n",
        "    plt.axis(\"off\")\n",
        "    plt.imshow(frame)\n",
        "    plt.show()\n",
        "print(total)\n",
        "slider = widgets.IntSlider(0, 0, total - 1, description=\"Frame\")\n",
        "widgets.interact(show_frame, i=slider)"
      ]
    },
    {
      "cell_type": "code",
      "execution_count": null,
      "id": "da37d7fc",
      "metadata": {
        "colab": {
          "base_uri": "https://localhost:8080/"
        },
        "id": "da37d7fc",
        "outputId": "8b1119ca-1417-4fb0-de2a-fa66b9430163"
      },
      "outputs": [
        {
          "output_type": "execute_result",
          "data": {
            "text/plain": [
              "PosixPath('planning_reasoning_rope_knots_knot_remaining_order_tie_a_bow_tie.mp4_446.png')"
            ]
          },
          "metadata": {},
          "execution_count": 30
        }
      ],
      "source": [
        "def save_frame(video_path, frame_idx, out_path):\n",
        "    \"\"\"\n",
        "    Save `frame_idx` (0‑based) of `video_path` as a PNG.\n",
        "\n",
        "    Parameters\n",
        "    ----------\n",
        "    video_path : str\n",
        "        Path to the .mp4 (or any format OpenCV can read).\n",
        "    frame_idx : int\n",
        "        Index of the frame to export (0 is the first frame).\n",
        "    out_path : str | None, default None\n",
        "        Where to write the PNG. If None, makes ./frame_<idx>.png next to the notebook.\n",
        "\n",
        "    Returns\n",
        "    -------\n",
        "    pathlib.Path\n",
        "        The path that was written.\n",
        "    \"\"\"\n",
        "    if out_path is None:\n",
        "        out_path = f\"frame_{frame_idx}.png\"\n",
        "\n",
        "    cap = cv2.VideoCapture(video_path)\n",
        "    cap.set(cv2.CAP_PROP_POS_FRAMES, frame_idx)\n",
        "    ok, frame = cap.read()\n",
        "    cap.release()\n",
        "\n",
        "    if not ok:\n",
        "        raise ValueError(f\"Could not read frame {frame_idx} from {video_path}\")\n",
        "\n",
        "    cv2.imwrite(out_path, frame)   # OpenCV writes BGR → PNG\n",
        "    return Path(out_path)\n",
        "name = video_path\n",
        "frame = 446\n",
        "save_frame(video_path, frame, f\"{name}_{frame}.png\")"
      ]
    },
    {
      "cell_type": "code",
      "execution_count": null,
      "id": "4925e39a",
      "metadata": {
        "id": "4925e39a"
      },
      "outputs": [],
      "source": []
    }
  ],
  "metadata": {
    "kernelspec": {
      "display_name": "Python 3",
      "language": "python",
      "name": "python3"
    },
    "language_info": {
      "codemirror_mode": {
        "name": "ipython",
        "version": 3
      },
      "file_extension": ".py",
      "mimetype": "text/x-python",
      "name": "python",
      "nbconvert_exporter": "python",
      "pygments_lexer": "ipython3",
      "version": "3.9.13"
    },
    "colab": {
      "provenance": []
    },
    "widgets": {
      "application/vnd.jupyter.widget-state+json": {
        "5314d98dade34398a53eba041d41e7ef": {
          "model_module": "@jupyter-widgets/controls",
          "model_name": "VBoxModel",
          "model_module_version": "1.5.0",
          "state": {
            "_dom_classes": [
              "widget-interact"
            ],
            "_model_module": "@jupyter-widgets/controls",
            "_model_module_version": "1.5.0",
            "_model_name": "VBoxModel",
            "_view_count": null,
            "_view_module": "@jupyter-widgets/controls",
            "_view_module_version": "1.5.0",
            "_view_name": "VBoxView",
            "box_style": "",
            "children": [
              "IPY_MODEL_bd4bf36e688b4dd682c96b38127deb8d",
              "IPY_MODEL_46590fff7d3f46f1b466970ffe7acd3b"
            ],
            "layout": "IPY_MODEL_b3b3c083aaae4a508ebfce42f7e228aa"
          }
        },
        "bd4bf36e688b4dd682c96b38127deb8d": {
          "model_module": "@jupyter-widgets/controls",
          "model_name": "IntSliderModel",
          "model_module_version": "1.5.0",
          "state": {
            "_dom_classes": [],
            "_model_module": "@jupyter-widgets/controls",
            "_model_module_version": "1.5.0",
            "_model_name": "IntSliderModel",
            "_view_count": null,
            "_view_module": "@jupyter-widgets/controls",
            "_view_module_version": "1.5.0",
            "_view_name": "IntSliderView",
            "continuous_update": true,
            "description": "Frame",
            "description_tooltip": null,
            "disabled": false,
            "layout": "IPY_MODEL_364ab3a613ee4dad911a90720bfaa86a",
            "max": 503,
            "min": 0,
            "orientation": "horizontal",
            "readout": true,
            "readout_format": "d",
            "step": 1,
            "style": "IPY_MODEL_8569bb4d394d4a23970e9d17dc4da72c",
            "value": 446
          }
        },
        "46590fff7d3f46f1b466970ffe7acd3b": {
          "model_module": "@jupyter-widgets/output",
          "model_name": "OutputModel",
          "model_module_version": "1.0.0",
          "state": {
            "_dom_classes": [],
            "_model_module": "@jupyter-widgets/output",
            "_model_module_version": "1.0.0",
            "_model_name": "OutputModel",
            "_view_count": null,
            "_view_module": "@jupyter-widgets/output",
            "_view_module_version": "1.0.0",
            "_view_name": "OutputView",
            "layout": "IPY_MODEL_1efb6bb22bf540d2b492bf2a926655bc",
            "msg_id": "",
            "outputs": [
              {
                "output_type": "display_data",
                "data": {
                  "text/plain": "<Figure size 600x400 with 1 Axes>",
                  "image/png": "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\n"
                },
                "metadata": {}
              }
            ]
          }
        },
        "b3b3c083aaae4a508ebfce42f7e228aa": {
          "model_module": "@jupyter-widgets/base",
          "model_name": "LayoutModel",
          "model_module_version": "1.2.0",
          "state": {
            "_model_module": "@jupyter-widgets/base",
            "_model_module_version": "1.2.0",
            "_model_name": "LayoutModel",
            "_view_count": null,
            "_view_module": "@jupyter-widgets/base",
            "_view_module_version": "1.2.0",
            "_view_name": "LayoutView",
            "align_content": null,
            "align_items": null,
            "align_self": null,
            "border": null,
            "bottom": null,
            "display": null,
            "flex": null,
            "flex_flow": null,
            "grid_area": null,
            "grid_auto_columns": null,
            "grid_auto_flow": null,
            "grid_auto_rows": null,
            "grid_column": null,
            "grid_gap": null,
            "grid_row": null,
            "grid_template_areas": null,
            "grid_template_columns": null,
            "grid_template_rows": null,
            "height": null,
            "justify_content": null,
            "justify_items": null,
            "left": null,
            "margin": null,
            "max_height": null,
            "max_width": null,
            "min_height": null,
            "min_width": null,
            "object_fit": null,
            "object_position": null,
            "order": null,
            "overflow": null,
            "overflow_x": null,
            "overflow_y": null,
            "padding": null,
            "right": null,
            "top": null,
            "visibility": null,
            "width": null
          }
        },
        "364ab3a613ee4dad911a90720bfaa86a": {
          "model_module": "@jupyter-widgets/base",
          "model_name": "LayoutModel",
          "model_module_version": "1.2.0",
          "state": {
            "_model_module": "@jupyter-widgets/base",
            "_model_module_version": "1.2.0",
            "_model_name": "LayoutModel",
            "_view_count": null,
            "_view_module": "@jupyter-widgets/base",
            "_view_module_version": "1.2.0",
            "_view_name": "LayoutView",
            "align_content": null,
            "align_items": null,
            "align_self": null,
            "border": null,
            "bottom": null,
            "display": null,
            "flex": null,
            "flex_flow": null,
            "grid_area": null,
            "grid_auto_columns": null,
            "grid_auto_flow": null,
            "grid_auto_rows": null,
            "grid_column": null,
            "grid_gap": null,
            "grid_row": null,
            "grid_template_areas": null,
            "grid_template_columns": null,
            "grid_template_rows": null,
            "height": null,
            "justify_content": null,
            "justify_items": null,
            "left": null,
            "margin": null,
            "max_height": null,
            "max_width": null,
            "min_height": null,
            "min_width": null,
            "object_fit": null,
            "object_position": null,
            "order": null,
            "overflow": null,
            "overflow_x": null,
            "overflow_y": null,
            "padding": null,
            "right": null,
            "top": null,
            "visibility": null,
            "width": null
          }
        },
        "8569bb4d394d4a23970e9d17dc4da72c": {
          "model_module": "@jupyter-widgets/controls",
          "model_name": "SliderStyleModel",
          "model_module_version": "1.5.0",
          "state": {
            "_model_module": "@jupyter-widgets/controls",
            "_model_module_version": "1.5.0",
            "_model_name": "SliderStyleModel",
            "_view_count": null,
            "_view_module": "@jupyter-widgets/base",
            "_view_module_version": "1.2.0",
            "_view_name": "StyleView",
            "description_width": "",
            "handle_color": null
          }
        },
        "1efb6bb22bf540d2b492bf2a926655bc": {
          "model_module": "@jupyter-widgets/base",
          "model_name": "LayoutModel",
          "model_module_version": "1.2.0",
          "state": {
            "_model_module": "@jupyter-widgets/base",
            "_model_module_version": "1.2.0",
            "_model_name": "LayoutModel",
            "_view_count": null,
            "_view_module": "@jupyter-widgets/base",
            "_view_module_version": "1.2.0",
            "_view_name": "LayoutView",
            "align_content": null,
            "align_items": null,
            "align_self": null,
            "border": null,
            "bottom": null,
            "display": null,
            "flex": null,
            "flex_flow": null,
            "grid_area": null,
            "grid_auto_columns": null,
            "grid_auto_flow": null,
            "grid_auto_rows": null,
            "grid_column": null,
            "grid_gap": null,
            "grid_row": null,
            "grid_template_areas": null,
            "grid_template_columns": null,
            "grid_template_rows": null,
            "height": null,
            "justify_content": null,
            "justify_items": null,
            "left": null,
            "margin": null,
            "max_height": null,
            "max_width": null,
            "min_height": null,
            "min_width": null,
            "object_fit": null,
            "object_position": null,
            "order": null,
            "overflow": null,
            "overflow_x": null,
            "overflow_y": null,
            "padding": null,
            "right": null,
            "top": null,
            "visibility": null,
            "width": null
          }
        }
      }
    }
  },
  "nbformat": 4,
  "nbformat_minor": 5
}